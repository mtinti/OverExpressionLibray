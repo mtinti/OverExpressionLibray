{
 "cells": [
  {
   "cell_type": "markdown",
   "metadata": {},
   "source": [
    "![title](static/wcar.png)"
   ]
  },
  {
   "cell_type": "markdown",
   "metadata": {},
   "source": [
    "# Visualising Overexpression Library Hits"
   ]
  },
  {
   "cell_type": "code",
   "execution_count": null,
   "metadata": {},
   "outputs": [],
   "source": [
    "#reload when modified\n",
    "%load_ext autoreload\n",
    "%autoreload 2"
   ]
  },
  {
   "cell_type": "code",
   "execution_count": null,
   "metadata": {},
   "outputs": [],
   "source": [
    "import svist4get as sv4g\n",
    "import pandas as pd\n",
    "from IPython.display import Image, display\n",
    "import os"
   ]
  },
  {
   "cell_type": "code",
   "execution_count": null,
   "metadata": {},
   "outputs": [],
   "source": [
    "pa = sv4g.manager.Parameters()"
   ]
  },
  {
   "cell_type": "markdown",
   "metadata": {},
   "source": [
    "## Load tracks in BED graph format"
   ]
  },
  {
   "cell_type": "code",
   "execution_count": null,
   "metadata": {},
   "outputs": [],
   "source": [
    "_EXPERIMENT = '{_EXPERIMENT}'\n",
    "_FASTQ_HEADER = '{_FASTQ_HEADER}'\n",
    "_TOP_10 = pd.read_csv(os.path.join(_EXPERIMENT,'res.csv'))\n",
    "_TOP_10 = list(_TOP_10.sort_values('counts',ascending=False).head(10)['gene_id'])\n",
    "_TOP_10"
   ]
  },
  {
   "cell_type": "code",
   "execution_count": null,
   "metadata": {},
   "outputs": [],
   "source": [
    "_ABS_PATH = os.path.join(os.sep,'homes','mtinti','RNAseq','viper-test','rit-seq')\n",
    "_GFF = os.path.join('genomes','{genome}','{gff}')\n",
    "_GTF = os.path.join('genomes','{genome}','{gtf}')\n",
    "_GENOME = os.path.join('genomes','{genome}','{fasta}')\n",
    "\n",
    "\n",
    "exp_dict = {\n",
    "    _EXPERIMENT:dict(\n",
    "        path_to_config='svist4get/svist4get_data/A4_p2.cfg',\n",
    "        gtf_file=  os.path.join(_ABS_PATH,_GTF),\n",
    "        fasta_file= os.path.join(_ABS_PATH,_GENOME),\n",
    "        bedgraph_label = ['ALL', 'FF', 'FR', 'RF', 'RR'],\n",
    "        paths_to_bedgraphs = [\n",
    "            os.path.join(_ABS_PATH,_EXPERIMENT,'data',_FASTQ_HEADER,_FASTQ_HEADER+'_coverage_bg.bed'),\n",
    "            os.path.join(_ABS_PATH,_EXPERIMENT,'data',_FASTQ_HEADER,_FASTQ_HEADER+'ff_barcode_coverage_bg.bed'),\n",
    "            os.path.join(_ABS_PATH,_EXPERIMENT,'data',_FASTQ_HEADER,_FASTQ_HEADER+'fr_barcode_coverage_bg.bed'),\n",
    "            os.path.join(_ABS_PATH,_EXPERIMENT,'data',_FASTQ_HEADER,_FASTQ_HEADER+'rf_barcode_coverage_bg.bed'),\n",
    "            os.path.join(_ABS_PATH,_EXPERIMENT,'data',_FASTQ_HEADER,_FASTQ_HEADER+'rr_barcode_coverage_bg.bed')\n",
    "        ],\n",
    "    )\n",
    "}\n",
    "exp_dict"
   ]
  },
  {
   "cell_type": "markdown",
   "metadata": {},
   "source": [
    "## Extract interesting region\n",
    "We try to get the interesting gene plus a couple of genes more at the 5' and 3' of the interesting gene"
   ]
  },
  {
   "cell_type": "code",
   "execution_count": null,
   "metadata": {},
   "outputs": [],
   "source": [
    "#set up the main params\n",
    "def init_pa(exp='RNAseqInVivo_dh'):\n",
    "    pa = sv4g.manager.Parameters()\n",
    "    path_to_config = exp_dict[exp]['path_to_config']\n",
    "    pa.initialize(path_to_config)\n",
    "    pa.config['gtf_file'] = exp_dict[exp]['gtf_file']\n",
    "    pa.config['fasta_file'] = exp_dict[exp]['fasta_file']\n",
    "    pa.config['bedgraph'] =  exp_dict[exp]['paths_to_bedgraphs']\n",
    "    pa.config['bedgraph_label'] = exp_dict[exp]['bedgraph_label']\n",
    "    pa.config['bedgraph_label_position'] = 'left'\n",
    "    return pa\n",
    "\n",
    "#parse the gtf file so that can be serched\n",
    "def parse_gtf(pa):\n",
    "    gtf = pd.read_csv(pa.config['gtf_file'], sep='\\t', header=None)\n",
    "    gtf.columns = ['chro','source','ftype','start','end','score','strand','frame','info']\n",
    "    gtf['gene'] = [n.split(';')[0].split(' ')[-1].split(':')[0].strip('\\\"') for n in gtf['info']]\n",
    "    return gtf\n",
    "\n",
    "#extract the gene of interest +- n genes  \n",
    "#at 5' and 3' of the gene of interest\n",
    "def get_region(in_gene, pa, extend=2):\n",
    "    gtf = parse_gtf(pa)\n",
    "    temp = gtf.drop_duplicates(subset=['chro','gene'])\n",
    "    temp = temp[temp.iloc[:,2]=='transcript']\n",
    "    \n",
    "    selection = temp[temp['gene'].str.contains(in_gene)].index.values[0]\n",
    "    #print(selection)\n",
    "    #print('____________')\n",
    "    temp = temp[temp['chro']==temp.loc[selection]['chro']]\n",
    "    temp = temp.sort_values('start')\n",
    "    \n",
    "    #print(temp.head())\n",
    "    #print('____________')\n",
    "    #print(temp.tail())\n",
    "    #print('____________')\n",
    "    \n",
    "    strand = temp.loc[selection]['strand']\n",
    "    chrom = temp.loc[selection]['chro']\n",
    "    temp['old_index']=temp.index.values\n",
    " \n",
    "    \n",
    "    temp = temp.reset_index(drop=True)\n",
    "\n",
    "    #print(temp.head())\n",
    "    #print('____________')       \n",
    "    \n",
    "    new_pos = temp[temp.old_index==selection].index.values[0]\n",
    "    \n",
    "    \n",
    "    from_index = new_pos-extend-1\n",
    "    to_index = new_pos+extend+1\n",
    "    #print(temp.head())\n",
    "    #print('____________')\n",
    "    #print(temp.loc[selection])\n",
    "    \n",
    "    #we ask for an array of gene\n",
    "    #we take n genes at the 5' and n genes at the 3' of the selected gene where n=extend \n",
    "    #we also add one further gene at the start and end of the array\n",
    "    #print(from_index, to_index)\n",
    "    \n",
    "    #check if we are at the start of the chr\n",
    "    if from_index<0:\n",
    "        from_index=0\n",
    "        temp = temp.loc[from_index:to_index]\n",
    "        #start of plot is the start of the gene of interest\n",
    "        #not ideal\n",
    "        start = temp['start'].values[0]\n",
    "        end = temp['start'].values[-1]\n",
    "    \n",
    "    #or end of the chromosome    \n",
    "    if to_index >= temp.index.values[-1]:\n",
    "        to_index = temp.index.values[-1]\n",
    "        temp = temp.loc[from_index:to_index]\n",
    "        start = temp['end'].values[0]\n",
    "        #end of plot is the end of the gene of interest\n",
    "        #not ideal        \n",
    "        end = temp['end'].values[-1]\n",
    "        #print('11111111111')\n",
    "\n",
    "    #otherwise    \n",
    "    temp = temp.loc[from_index:to_index]\n",
    "    #the start of the plot is the end of the first gene in the array\n",
    "    start = temp['end'].values[0]\n",
    "    #the end of the plot is the start of the last gene in the array\n",
    "    end = temp['start'].values[-1]\n",
    "    #print(temp)\n",
    "    #print(1, 'extend', extend)\n",
    "    return chrom, start, end, strand\n",
    "\n",
    "#set up the gene-dependent parameters\n",
    "def add_gene(gene_id, desc,  pa, extend=2):\n",
    "    chrom, start, end, strand = get_region(gene, pa, extend=extend) \n",
    "    print(chrom, start, end, strand)\n",
    "    pa.config['window'] = [chrom, start, end]\n",
    "    pa.config['image_title'] = gene\n",
    "    pa.config['output_filename'] = gene\n",
    "    pa.config['image_title'] = gene+' '+desc\n",
    "    pa.config['output_filename'] = os.path.join(_EXPERIMENT, gene)\n",
    "    #determine the orientation of the plot\n",
    "    \n",
    "    if strand == '+':\n",
    "        pa.config['revcomp_transform'] = 0\n",
    "    else:\n",
    "        pa.config['revcomp_transform'] = 1\n",
    "    \n",
    "    return pa\n",
    "    #print(2, 'extend', extend)\n",
    " \n",
    "# make the figure\n",
    "def make_image(pa):\n",
    "    gtf = sv4g.data_processing.Gtf_helper(pa.config['gtf_file'])\n",
    "    transcripts = gtf.extract_transcripts_from_widnow(*pa.config['window'])\n",
    "    data_from_gtf = (gtf.extract_data_about_transcripts(transcripts))\n",
    "    pa.add_gtf_data(data_from_gtf)\n",
    "    tracks = []\n",
    "    tracks += sv4g.manager.Title_tracks_maker(pa).create_tracks()\n",
    "    tracks += sv4g.manager.Axis_tics_tracks_maker(pa).create_tracks()\n",
    "    tracks += sv4g.manager.Vgrid_tracks_maker(pa).create_tracks()\n",
    "    tracks += sv4g.manager.Aa_seq_tracks_maker(pa).create_tracks()\n",
    "    tracks += sv4g.manager.Transcript_struct_tracks_maker(pa).create_tracks()\n",
    "    tracks += sv4g.manager.Bedgraph_tracks_maker(pa).create_tracks()\n",
    "    sv4g.manager.Image(tracks, pa).draw()\n",
    "    # converting the resulting pdf to a png file\n",
    "    sv4g.methods.pdf_page_to_png(pa)\n",
    "    display(Image(filename=os.path.join(pa.config['output_filename']+'.png')))\n",
    "\n"
   ]
  },
  {
   "cell_type": "markdown",
   "metadata": {},
   "source": [
    "## Description Dict"
   ]
  },
  {
   "cell_type": "code",
   "execution_count": null,
   "metadata": {},
   "outputs": [],
   "source": [
    "#create a dictionary of gene to desc\n",
    "#from the gff file\n",
    "def make_desc():\n",
    "    gff =pd.read_csv( _GFF, sep='\\t', header=None,comment='#')\n",
    "    gff = gff[gff.iloc[:,2]=='gene']\n",
    "    desc = {}\n",
    "    for n in gff.iloc[:,-1]:\n",
    "        n=n.replace('%2C',' ')\n",
    "        item_list = n.split(';')\n",
    "        #print (item_list)\n",
    "        temp_dict = {}\n",
    "        for m in item_list:\n",
    "            #print(m)\n",
    "            temp_dict[m.split('=')[0].strip()]=m.split('=')[1].strip()\n",
    "        #print(temp_dict['ID'])\n",
    "        #print(temp_dict['description'])\n",
    "        desc[temp_dict['ID']]=temp_dict['description']\n",
    "    return desc\n",
    "\n",
    "desc_dict = make_desc()"
   ]
  },
  {
   "cell_type": "code",
   "execution_count": null,
   "metadata": {},
   "outputs": [],
   "source": [
    "gene = _TOP_10[0]\n",
    "gene, desc_dict[gene]"
   ]
  },
  {
   "cell_type": "markdown",
   "metadata": {},
   "source": [
    "## Plots"
   ]
  },
  {
   "cell_type": "code",
   "execution_count": null,
   "metadata": {
    "scrolled": false
   },
   "outputs": [],
   "source": [
    "for gene in _TOP_10:\n",
    "    print(gene,desc_dict[gene])\n",
    "    try:\n",
    "        desc = ' '+desc_dict[gene]#' Succinate dehydrogenase'\n",
    "        pa = init_pa(exp=_EXPERIMENT)\n",
    "        pa = add_gene(gene, desc, pa, extend=2)\n",
    "        make_image(pa)\n",
    "    except:\n",
    "        print(gene,'--------- ERROR ----------')\n",
    "        "
   ]
  }
 ],
 "metadata": {
  "finalized": {
   "timestamp": 1582018507464,
   "trusted": true
  },
  "kernelspec": {
   "display_name": "Python 3",
   "language": "python",
   "name": "python3"
  },
  "language_info": {
   "codemirror_mode": {
    "name": "ipython",
    "version": 3
   },
   "file_extension": ".py",
   "mimetype": "text/x-python",
   "name": "python",
   "nbconvert_exporter": "python",
   "pygments_lexer": "ipython3",
   "version": "3.6.7"
  },
  "toc": {
   "base_numbering": 1,
   "nav_menu": {},
   "number_sections": true,
   "sideBar": true,
   "skip_h1_title": false,
   "title_cell": "Table of Contents",
   "title_sidebar": "Contents",
   "toc_cell": false,
   "toc_position": {},
   "toc_section_display": true,
   "toc_window_display": true
  }
 },
 "nbformat": 4,
 "nbformat_minor": 2
}
